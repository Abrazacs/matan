{
  "cells": [
    {
      "cell_type": "markdown",
      "metadata": {
        "id": "view-in-github",
        "colab_type": "text"
      },
      "source": [
        "<a href=\"https://colab.research.google.com/github/Abrazacs/matan/blob/main/1_dz.ipynb\" target=\"_parent\"><img src=\"https://colab.research.google.com/assets/colab-badge.svg\" alt=\"Open In Colab\"/></a>"
      ]
    },
    {
      "cell_type": "markdown",
      "id": "0dee24c0-e9bf-427b-9b04-43e4c8220228",
      "metadata": {
        "id": "0dee24c0-e9bf-427b-9b04-43e4c8220228"
      },
      "source": [
        "# Домашнее задание"
      ]
    },
    {
      "cell_type": "markdown",
      "id": "feafcfd9-2d32-4682-bcd0-07a0c9bbd32c",
      "metadata": {
        "id": "feafcfd9-2d32-4682-bcd0-07a0c9bbd32c"
      },
      "source": [
        "Математический анализ\n",
        "69 баллов"
      ]
    },
    {
      "cell_type": "markdown",
      "id": "b2345ed9-1018-4084-9636-7e7b92bd6c64",
      "metadata": {
        "id": "b2345ed9-1018-4084-9636-7e7b92bd6c64"
      },
      "source": [
        "**Задача 1** (14 баллов)\n",
        "\n",
        "Найдите экстремумы функции:"
      ]
    },
    {
      "cell_type": "markdown",
      "source": [],
      "metadata": {
        "id": "jt-znOF6XGQL"
      },
      "id": "jt-znOF6XGQL"
    },
    {
      "cell_type": "markdown",
      "id": "e25e75bf-9d1e-4511-8846-8bfe99ae17f8",
      "metadata": {
        "id": "e25e75bf-9d1e-4511-8846-8bfe99ae17f8"
      },
      "source": [
        "$$\n",
        "f(x, y, z)=2 x^3+2 x y+2 x z+y^2+z^2+2 y-8 .\n",
        "$$"
      ]
    },
    {
      "cell_type": "markdown",
      "id": "ce92b07d-f19e-4f72-ab80-d04d0bae9984",
      "metadata": {
        "id": "ce92b07d-f19e-4f72-ab80-d04d0bae9984"
      },
      "source": [
        "1.  Производная $df/dx = 6x^2 + 2y + 2z$\n",
        "2.  Производная $df/dy = 2x + 2y + 2$\n",
        "3.  Производная $df/dz = 2x + 2z$\n",
        "\n",
        "Получаем систему уравнений:\n",
        "\n",
        "3x^2 + y + z = 0\n",
        "\n",
        "x + y + 1 = 0\n",
        "\n",
        "x + z = 0\n",
        "\n",
        "Выразим x через z и y\n",
        "\n",
        "z = -x,\n",
        "\n",
        "y = -1-x.\n",
        "\n",
        "Первое уравнение можно перезаписать:\n",
        "\n",
        "3x^2 - 2x - 1 = 0\n",
        "\n",
        "Корни:\n",
        "x1 = 1, x2 = -1/3\n",
        "\n",
        "получаем точки:\n",
        "\n",
        "x1,y1,z1 =(1,-2,-1)\n",
        "\n",
        "x2,y2,z2 = (-1/3,-2/3, 1/3)\n",
        "\n",
        "Вторые производные\n",
        "1.  12x\n",
        "2.  2\n",
        "3.  2\n",
        "4.  2\n",
        "5.  2\n",
        "6.  0\n",
        "\n",
        "Матрица Гессе:\n",
        "\n",
        "12x  2   2\n",
        "\n",
        "2    2   0\n",
        "\n",
        "2    0   2\n",
        "\n"
      ]
    },
    {
      "cell_type": "code",
      "source": [
        "import numpy as np\n",
        "\n",
        "def explore_hesse(x):\n",
        "  hesse = np.array([\n",
        "      [12*x, 2, 2],\n",
        "      [2, 2, 0],\n",
        "      [2, 0, 2]\n",
        "  ])\n",
        "  det = np.linalg.det(hesse)\n",
        "  vals = np.linalg.eigvals(hesse)\n",
        "\n",
        "  if det > 0 and vals.all()> 0:\n",
        "    print(f\"Минимум при x {x}\")\n",
        "  elif det > 0 and vals.all()< 0:\n",
        "    print(f\"Максимум при x {x}\")\n",
        "  elif det < 0:\n",
        "    print(f\"Седловая точка при x {x}\")\n",
        "  else:\n",
        "    print(f\"Нет экстремума при x {x}\")\n",
        "\n",
        "\n",
        "explore_hesse(1)\n",
        "explore_hesse(-1/3)\n"
      ],
      "metadata": {
        "colab": {
          "base_uri": "https://localhost:8080/"
        },
        "id": "9gYyywlSYKZ3",
        "outputId": "0eea6429-8072-4a18-d626-3a1d506ef4fa"
      },
      "id": "9gYyywlSYKZ3",
      "execution_count": null,
      "outputs": [
        {
          "output_type": "stream",
          "name": "stdout",
          "text": [
            "Минимум при x 1\n",
            "Седловая точка при x -0.3333333333333333\n"
          ]
        }
      ]
    },
    {
      "cell_type": "markdown",
      "id": "b38584b7-0da5-4858-9422-ff5bc2b3854f",
      "metadata": {
        "id": "b38584b7-0da5-4858-9422-ff5bc2b3854f"
      },
      "source": [
        "**Задача 2** (25 баллов)\n",
        "\n",
        "Найдите условные экстремумы функции:"
      ]
    },
    {
      "cell_type": "markdown",
      "id": "b36ed820-965b-484d-baab-b2cafebe7479",
      "metadata": {
        "id": "b36ed820-965b-484d-baab-b2cafebe7479"
      },
      "source": [
        "$$\n",
        "f(x, y)=4 x+8 y, y^2-2 x y+5=0\n",
        "$$"
      ]
    },
    {
      "cell_type": "code",
      "source": [],
      "metadata": {
        "id": "OgT2Rew5eXT0"
      },
      "id": "OgT2Rew5eXT0",
      "execution_count": null,
      "outputs": []
    },
    {
      "cell_type": "markdown",
      "id": "2ce1c6f1-d126-4368-a63e-2bbbefffd542",
      "metadata": {
        "id": "2ce1c6f1-d126-4368-a63e-2bbbefffd542"
      },
      "source": [
        "Вычислите результат самостоятельно (вручную) и с помощью Python. Сравните результаты.\n",
        "\n",
        "\n",
        "L(x,y lambda) = (4x+8y) + lambda * (y^2-2xy+5)\n",
        "________________________________________________\n",
        "\n",
        "L_dx = 4 - 2 * lambda * y\n",
        "\n",
        "L_dy = 8 + lambda * (2 * y - 2 * x)\n",
        "\n",
        "L_dlambdа = y^2 - 2*x*y + 5\n",
        "\n",
        "___________________________________\n",
        "\n",
        "4 - 2 * lambda * y = 0\n",
        "\n",
        "8+ lambda *( 2 * y - 2 * x) = 0\n",
        "\n",
        "y^2 - 2 * x * y + 5 = 0\n",
        "\n",
        "______________________________________\n",
        "\n",
        "-2 * lambda * y = -4\n",
        "\n",
        "lambda * y = 2\n",
        "\n",
        "lambda = 2 / y\n",
        "______________________________________\n",
        "\n",
        "8 + 2 / y * (2 * y - 2 * x) = 0\n",
        "\n",
        "8 + 4 - 4 * x / y = 0\n",
        "\n",
        "12 - 4 * x / y = 0\n",
        "\n",
        "x / y = 3\n",
        "\n",
        "x = 3 * y\n",
        "________________________________________\n",
        "\n",
        "-5 * y ^ 2 + 5 = 0\n",
        "\n",
        "y ^ 2 = 1\n",
        "\n",
        "y1 = 1\n",
        "\n",
        "y2 = -1\n",
        "\n",
        "x1 = 3\n",
        "\n",
        "x2 = -3\n",
        "_________________________________________\n",
        "\n",
        "x1, y1 (3, 1)\n",
        "\n",
        "x2, y2 (-3, -1)"
      ]
    },
    {
      "cell_type": "code",
      "source": [
        "import sympy as sp\n",
        "\n",
        "x, y, lambda_ = sp.symbols('x y lambda')\n",
        "f = 4*x + 8*y\n",
        "g = y**2 - 2*x*y + 5\n",
        "\n",
        "L = f + lambda_ * g\n",
        "\n",
        "dL_dx = sp.diff(L, x)\n",
        "dL_dy = sp.diff(L, y)\n",
        "dL_dlambda = sp.diff(L, lambda_)\n",
        "\n",
        "result = sp.solve([dL_dx, dL_dy, g], (x, y, lambda_))\n",
        "\n",
        "print(result)"
      ],
      "metadata": {
        "colab": {
          "base_uri": "https://localhost:8080/"
        },
        "id": "QAU--xD2b6fc",
        "outputId": "0734d89f-8d08-455a-dcb3-9411e1aac681"
      },
      "id": "QAU--xD2b6fc",
      "execution_count": null,
      "outputs": [
        {
          "output_type": "stream",
          "name": "stdout",
          "text": [
            "[(-3, -1, -2), (3, 1, 2)]\n"
          ]
        }
      ]
    },
    {
      "cell_type": "markdown",
      "id": "818083c3-7318-4669-bb15-5a8a48ef543d",
      "metadata": {
        "id": "818083c3-7318-4669-bb15-5a8a48ef543d"
      },
      "source": [
        "**Задача 3** (30 баллов)\n",
        "\n",
        "Вам предложены данные с информацией о успеваемости студентов:\n",
        "\n",
        "Независимые переменные:\n",
        "* Hours Studied: Общее количество часов, потраченных на учебу каждым студентом.\n",
        "* Previous Scores: Баллы, полученные студентами на предыдущих экзаменах.\n",
        "* Sleep Hours: Среднее количество часов сна студента в сутки.\n",
        "* Sample Question Papers Practiced: Количество пробных экзаменационных работ, с которыми студент занимался.\n",
        "  \n",
        "Целевая переменная:\n",
        "* Performance Index: Показатель общей успеваемости каждого студента. Индекс успеваемости отражает академическую успеваемость студента и округляется до ближайшего целого числа. Индекс варьируется от 10 до 100, при этом более высокие значения свидетельствуют о более высокой успеваемости."
      ]
    },
    {
      "cell_type": "markdown",
      "id": "f65c2300-43b2-4c43-b762-1e20d29ae889",
      "metadata": {
        "id": "f65c2300-43b2-4c43-b762-1e20d29ae889"
      },
      "source": [
        "**Решите задачу линейной регрессии, реализовав градиентный спуск самостоятельно, не используя готовое решение из какой-либо библиотеки.**"
      ]
    },
    {
      "cell_type": "code",
      "execution_count": 50,
      "id": "3900c065-fb9b-45bf-bc1f-a9c9d0ab5c20",
      "metadata": {
        "id": "3900c065-fb9b-45bf-bc1f-a9c9d0ab5c20",
        "colab": {
          "base_uri": "https://localhost:8080/",
          "height": 525
        },
        "outputId": "9f7dbed6-229b-4984-80f0-88cfc175fad9"
      },
      "outputs": [
        {
          "output_type": "display_data",
          "data": {
            "text/plain": [
              "       Hours Studied  Previous Scores   Sleep Hours  \\\n",
              "count   10000.000000     10000.000000  10000.000000   \n",
              "mean        4.992900        69.445700      6.530600   \n",
              "std         2.589309        17.343152      1.695863   \n",
              "min         1.000000        40.000000      4.000000   \n",
              "25%         3.000000        54.000000      5.000000   \n",
              "50%         5.000000        69.000000      7.000000   \n",
              "75%         7.000000        85.000000      8.000000   \n",
              "max         9.000000        99.000000      9.000000   \n",
              "\n",
              "       Sample Question Papers Practiced  Performance Index  \n",
              "count                      10000.000000       10000.000000  \n",
              "mean                           4.583300          55.224800  \n",
              "std                            2.867348          19.212558  \n",
              "min                            0.000000          10.000000  \n",
              "25%                            2.000000          40.000000  \n",
              "50%                            5.000000          55.000000  \n",
              "75%                            7.000000          71.000000  \n",
              "max                            9.000000         100.000000  "
            ],
            "text/html": [
              "\n",
              "  <div id=\"df-eb845033-e550-4b0b-aa65-d220e54ac86d\" class=\"colab-df-container\">\n",
              "    <div>\n",
              "<style scoped>\n",
              "    .dataframe tbody tr th:only-of-type {\n",
              "        vertical-align: middle;\n",
              "    }\n",
              "\n",
              "    .dataframe tbody tr th {\n",
              "        vertical-align: top;\n",
              "    }\n",
              "\n",
              "    .dataframe thead th {\n",
              "        text-align: right;\n",
              "    }\n",
              "</style>\n",
              "<table border=\"1\" class=\"dataframe\">\n",
              "  <thead>\n",
              "    <tr style=\"text-align: right;\">\n",
              "      <th></th>\n",
              "      <th>Hours Studied</th>\n",
              "      <th>Previous Scores</th>\n",
              "      <th>Sleep Hours</th>\n",
              "      <th>Sample Question Papers Practiced</th>\n",
              "      <th>Performance Index</th>\n",
              "    </tr>\n",
              "  </thead>\n",
              "  <tbody>\n",
              "    <tr>\n",
              "      <th>count</th>\n",
              "      <td>10000.000000</td>\n",
              "      <td>10000.000000</td>\n",
              "      <td>10000.000000</td>\n",
              "      <td>10000.000000</td>\n",
              "      <td>10000.000000</td>\n",
              "    </tr>\n",
              "    <tr>\n",
              "      <th>mean</th>\n",
              "      <td>4.992900</td>\n",
              "      <td>69.445700</td>\n",
              "      <td>6.530600</td>\n",
              "      <td>4.583300</td>\n",
              "      <td>55.224800</td>\n",
              "    </tr>\n",
              "    <tr>\n",
              "      <th>std</th>\n",
              "      <td>2.589309</td>\n",
              "      <td>17.343152</td>\n",
              "      <td>1.695863</td>\n",
              "      <td>2.867348</td>\n",
              "      <td>19.212558</td>\n",
              "    </tr>\n",
              "    <tr>\n",
              "      <th>min</th>\n",
              "      <td>1.000000</td>\n",
              "      <td>40.000000</td>\n",
              "      <td>4.000000</td>\n",
              "      <td>0.000000</td>\n",
              "      <td>10.000000</td>\n",
              "    </tr>\n",
              "    <tr>\n",
              "      <th>25%</th>\n",
              "      <td>3.000000</td>\n",
              "      <td>54.000000</td>\n",
              "      <td>5.000000</td>\n",
              "      <td>2.000000</td>\n",
              "      <td>40.000000</td>\n",
              "    </tr>\n",
              "    <tr>\n",
              "      <th>50%</th>\n",
              "      <td>5.000000</td>\n",
              "      <td>69.000000</td>\n",
              "      <td>7.000000</td>\n",
              "      <td>5.000000</td>\n",
              "      <td>55.000000</td>\n",
              "    </tr>\n",
              "    <tr>\n",
              "      <th>75%</th>\n",
              "      <td>7.000000</td>\n",
              "      <td>85.000000</td>\n",
              "      <td>8.000000</td>\n",
              "      <td>7.000000</td>\n",
              "      <td>71.000000</td>\n",
              "    </tr>\n",
              "    <tr>\n",
              "      <th>max</th>\n",
              "      <td>9.000000</td>\n",
              "      <td>99.000000</td>\n",
              "      <td>9.000000</td>\n",
              "      <td>9.000000</td>\n",
              "      <td>100.000000</td>\n",
              "    </tr>\n",
              "  </tbody>\n",
              "</table>\n",
              "</div>\n",
              "    <div class=\"colab-df-buttons\">\n",
              "\n",
              "  <div class=\"colab-df-container\">\n",
              "    <button class=\"colab-df-convert\" onclick=\"convertToInteractive('df-eb845033-e550-4b0b-aa65-d220e54ac86d')\"\n",
              "            title=\"Convert this dataframe to an interactive table.\"\n",
              "            style=\"display:none;\">\n",
              "\n",
              "  <svg xmlns=\"http://www.w3.org/2000/svg\" height=\"24px\" viewBox=\"0 -960 960 960\">\n",
              "    <path d=\"M120-120v-720h720v720H120Zm60-500h600v-160H180v160Zm220 220h160v-160H400v160Zm0 220h160v-160H400v160ZM180-400h160v-160H180v160Zm440 0h160v-160H620v160ZM180-180h160v-160H180v160Zm440 0h160v-160H620v160Z\"/>\n",
              "  </svg>\n",
              "    </button>\n",
              "\n",
              "  <style>\n",
              "    .colab-df-container {\n",
              "      display:flex;\n",
              "      gap: 12px;\n",
              "    }\n",
              "\n",
              "    .colab-df-convert {\n",
              "      background-color: #E8F0FE;\n",
              "      border: none;\n",
              "      border-radius: 50%;\n",
              "      cursor: pointer;\n",
              "      display: none;\n",
              "      fill: #1967D2;\n",
              "      height: 32px;\n",
              "      padding: 0 0 0 0;\n",
              "      width: 32px;\n",
              "    }\n",
              "\n",
              "    .colab-df-convert:hover {\n",
              "      background-color: #E2EBFA;\n",
              "      box-shadow: 0px 1px 2px rgba(60, 64, 67, 0.3), 0px 1px 3px 1px rgba(60, 64, 67, 0.15);\n",
              "      fill: #174EA6;\n",
              "    }\n",
              "\n",
              "    .colab-df-buttons div {\n",
              "      margin-bottom: 4px;\n",
              "    }\n",
              "\n",
              "    [theme=dark] .colab-df-convert {\n",
              "      background-color: #3B4455;\n",
              "      fill: #D2E3FC;\n",
              "    }\n",
              "\n",
              "    [theme=dark] .colab-df-convert:hover {\n",
              "      background-color: #434B5C;\n",
              "      box-shadow: 0px 1px 3px 1px rgba(0, 0, 0, 0.15);\n",
              "      filter: drop-shadow(0px 1px 2px rgba(0, 0, 0, 0.3));\n",
              "      fill: #FFFFFF;\n",
              "    }\n",
              "  </style>\n",
              "\n",
              "    <script>\n",
              "      const buttonEl =\n",
              "        document.querySelector('#df-eb845033-e550-4b0b-aa65-d220e54ac86d button.colab-df-convert');\n",
              "      buttonEl.style.display =\n",
              "        google.colab.kernel.accessAllowed ? 'block' : 'none';\n",
              "\n",
              "      async function convertToInteractive(key) {\n",
              "        const element = document.querySelector('#df-eb845033-e550-4b0b-aa65-d220e54ac86d');\n",
              "        const dataTable =\n",
              "          await google.colab.kernel.invokeFunction('convertToInteractive',\n",
              "                                                    [key], {});\n",
              "        if (!dataTable) return;\n",
              "\n",
              "        const docLinkHtml = 'Like what you see? Visit the ' +\n",
              "          '<a target=\"_blank\" href=https://colab.research.google.com/notebooks/data_table.ipynb>data table notebook</a>'\n",
              "          + ' to learn more about interactive tables.';\n",
              "        element.innerHTML = '';\n",
              "        dataTable['output_type'] = 'display_data';\n",
              "        await google.colab.output.renderOutput(dataTable, element);\n",
              "        const docLink = document.createElement('div');\n",
              "        docLink.innerHTML = docLinkHtml;\n",
              "        element.appendChild(docLink);\n",
              "      }\n",
              "    </script>\n",
              "  </div>\n",
              "\n",
              "\n",
              "<div id=\"df-3d2a22da-adc4-4022-a930-fe8bc3944909\">\n",
              "  <button class=\"colab-df-quickchart\" onclick=\"quickchart('df-3d2a22da-adc4-4022-a930-fe8bc3944909')\"\n",
              "            title=\"Suggest charts\"\n",
              "            style=\"display:none;\">\n",
              "\n",
              "<svg xmlns=\"http://www.w3.org/2000/svg\" height=\"24px\"viewBox=\"0 0 24 24\"\n",
              "     width=\"24px\">\n",
              "    <g>\n",
              "        <path d=\"M19 3H5c-1.1 0-2 .9-2 2v14c0 1.1.9 2 2 2h14c1.1 0 2-.9 2-2V5c0-1.1-.9-2-2-2zM9 17H7v-7h2v7zm4 0h-2V7h2v10zm4 0h-2v-4h2v4z\"/>\n",
              "    </g>\n",
              "</svg>\n",
              "  </button>\n",
              "\n",
              "<style>\n",
              "  .colab-df-quickchart {\n",
              "      --bg-color: #E8F0FE;\n",
              "      --fill-color: #1967D2;\n",
              "      --hover-bg-color: #E2EBFA;\n",
              "      --hover-fill-color: #174EA6;\n",
              "      --disabled-fill-color: #AAA;\n",
              "      --disabled-bg-color: #DDD;\n",
              "  }\n",
              "\n",
              "  [theme=dark] .colab-df-quickchart {\n",
              "      --bg-color: #3B4455;\n",
              "      --fill-color: #D2E3FC;\n",
              "      --hover-bg-color: #434B5C;\n",
              "      --hover-fill-color: #FFFFFF;\n",
              "      --disabled-bg-color: #3B4455;\n",
              "      --disabled-fill-color: #666;\n",
              "  }\n",
              "\n",
              "  .colab-df-quickchart {\n",
              "    background-color: var(--bg-color);\n",
              "    border: none;\n",
              "    border-radius: 50%;\n",
              "    cursor: pointer;\n",
              "    display: none;\n",
              "    fill: var(--fill-color);\n",
              "    height: 32px;\n",
              "    padding: 0;\n",
              "    width: 32px;\n",
              "  }\n",
              "\n",
              "  .colab-df-quickchart:hover {\n",
              "    background-color: var(--hover-bg-color);\n",
              "    box-shadow: 0 1px 2px rgba(60, 64, 67, 0.3), 0 1px 3px 1px rgba(60, 64, 67, 0.15);\n",
              "    fill: var(--button-hover-fill-color);\n",
              "  }\n",
              "\n",
              "  .colab-df-quickchart-complete:disabled,\n",
              "  .colab-df-quickchart-complete:disabled:hover {\n",
              "    background-color: var(--disabled-bg-color);\n",
              "    fill: var(--disabled-fill-color);\n",
              "    box-shadow: none;\n",
              "  }\n",
              "\n",
              "  .colab-df-spinner {\n",
              "    border: 2px solid var(--fill-color);\n",
              "    border-color: transparent;\n",
              "    border-bottom-color: var(--fill-color);\n",
              "    animation:\n",
              "      spin 1s steps(1) infinite;\n",
              "  }\n",
              "\n",
              "  @keyframes spin {\n",
              "    0% {\n",
              "      border-color: transparent;\n",
              "      border-bottom-color: var(--fill-color);\n",
              "      border-left-color: var(--fill-color);\n",
              "    }\n",
              "    20% {\n",
              "      border-color: transparent;\n",
              "      border-left-color: var(--fill-color);\n",
              "      border-top-color: var(--fill-color);\n",
              "    }\n",
              "    30% {\n",
              "      border-color: transparent;\n",
              "      border-left-color: var(--fill-color);\n",
              "      border-top-color: var(--fill-color);\n",
              "      border-right-color: var(--fill-color);\n",
              "    }\n",
              "    40% {\n",
              "      border-color: transparent;\n",
              "      border-right-color: var(--fill-color);\n",
              "      border-top-color: var(--fill-color);\n",
              "    }\n",
              "    60% {\n",
              "      border-color: transparent;\n",
              "      border-right-color: var(--fill-color);\n",
              "    }\n",
              "    80% {\n",
              "      border-color: transparent;\n",
              "      border-right-color: var(--fill-color);\n",
              "      border-bottom-color: var(--fill-color);\n",
              "    }\n",
              "    90% {\n",
              "      border-color: transparent;\n",
              "      border-bottom-color: var(--fill-color);\n",
              "    }\n",
              "  }\n",
              "</style>\n",
              "\n",
              "  <script>\n",
              "    async function quickchart(key) {\n",
              "      const quickchartButtonEl =\n",
              "        document.querySelector('#' + key + ' button');\n",
              "      quickchartButtonEl.disabled = true;  // To prevent multiple clicks.\n",
              "      quickchartButtonEl.classList.add('colab-df-spinner');\n",
              "      try {\n",
              "        const charts = await google.colab.kernel.invokeFunction(\n",
              "            'suggestCharts', [key], {});\n",
              "      } catch (error) {\n",
              "        console.error('Error during call to suggestCharts:', error);\n",
              "      }\n",
              "      quickchartButtonEl.classList.remove('colab-df-spinner');\n",
              "      quickchartButtonEl.classList.add('colab-df-quickchart-complete');\n",
              "    }\n",
              "    (() => {\n",
              "      let quickchartButtonEl =\n",
              "        document.querySelector('#df-3d2a22da-adc4-4022-a930-fe8bc3944909 button');\n",
              "      quickchartButtonEl.style.display =\n",
              "        google.colab.kernel.accessAllowed ? 'block' : 'none';\n",
              "    })();\n",
              "  </script>\n",
              "</div>\n",
              "    </div>\n",
              "  </div>\n"
            ],
            "application/vnd.google.colaboratory.intrinsic+json": {
              "type": "dataframe",
              "summary": "{\n  \"name\": \"display(df\",\n  \"rows\": 8,\n  \"fields\": [\n    {\n      \"column\": \"Hours Studied\",\n      \"properties\": {\n        \"dtype\": \"number\",\n        \"std\": 3533.8891649597354,\n        \"min\": 1.0,\n        \"max\": 10000.0,\n        \"num_unique_values\": 8,\n        \"samples\": [\n          4.9929,\n          5.0,\n          10000.0\n        ],\n        \"semantic_type\": \"\",\n        \"description\": \"\"\n      }\n    },\n    {\n      \"column\": \"Previous Scores\",\n      \"properties\": {\n        \"dtype\": \"number\",\n        \"std\": 3513.716647725204,\n        \"min\": 17.343152251047066,\n        \"max\": 10000.0,\n        \"num_unique_values\": 8,\n        \"samples\": [\n          69.4457,\n          69.0,\n          10000.0\n        ],\n        \"semantic_type\": \"\",\n        \"description\": \"\"\n      }\n    },\n    {\n      \"column\": \"Sleep Hours\",\n      \"properties\": {\n        \"dtype\": \"number\",\n        \"std\": 3533.4524176502773,\n        \"min\": 1.6958629765176023,\n        \"max\": 10000.0,\n        \"num_unique_values\": 8,\n        \"samples\": [\n          6.5306,\n          7.0,\n          10000.0\n        ],\n        \"semantic_type\": \"\",\n        \"description\": \"\"\n      }\n    },\n    {\n      \"column\": \"Sample Question Papers Practiced\",\n      \"properties\": {\n        \"dtype\": \"number\",\n        \"std\": 3533.9970430829685,\n        \"min\": 0.0,\n        \"max\": 10000.0,\n        \"num_unique_values\": 8,\n        \"samples\": [\n          4.5833,\n          5.0,\n          10000.0\n        ],\n        \"semantic_type\": \"\",\n        \"description\": \"\"\n      }\n    },\n    {\n      \"column\": \"Performance Index\",\n      \"properties\": {\n        \"dtype\": \"number\",\n        \"std\": 3517.948686251608,\n        \"min\": 10.0,\n        \"max\": 10000.0,\n        \"num_unique_values\": 8,\n        \"samples\": [\n          55.2248,\n          55.0,\n          10000.0\n        ],\n        \"semantic_type\": \"\",\n        \"description\": \"\"\n      }\n    }\n  ]\n}"
            }
          },
          "metadata": {}
        },
        {
          "output_type": "stream",
          "name": "stdout",
          "text": [
            "<class 'pandas.core.frame.DataFrame'>\n",
            "RangeIndex: 10000 entries, 0 to 9999\n",
            "Data columns (total 5 columns):\n",
            " #   Column                            Non-Null Count  Dtype  \n",
            "---  ------                            --------------  -----  \n",
            " 0   Hours Studied                     10000 non-null  int64  \n",
            " 1   Previous Scores                   10000 non-null  int64  \n",
            " 2   Sleep Hours                       10000 non-null  int64  \n",
            " 3   Sample Question Papers Practiced  10000 non-null  int64  \n",
            " 4   Performance Index                 10000 non-null  float64\n",
            "dtypes: float64(1), int64(4)\n",
            "memory usage: 390.8 KB\n"
          ]
        },
        {
          "output_type": "display_data",
          "data": {
            "text/plain": [
              "None"
            ]
          },
          "metadata": {}
        }
      ],
      "source": [
        "import pandas as pd\n",
        "import numpy as np\n",
        "import sklearn as sk\n",
        "\n",
        "df = pd.read_csv('Student_Performance.txt', sep=',')\n",
        "df.drop('Extracurricular Activities', axis=1, inplace=True)\n",
        "\n",
        "n = df.shape[0]\n",
        "\n",
        "display(df.describe())\n",
        "display(df.info())"
      ]
    },
    {
      "cell_type": "markdown",
      "source": [
        "Необходимо подобрать веса для заданных параметров таким образом, чтобы получившаяся функция натдучшим образом предсказывала целевое значение Performance Index."
      ],
      "metadata": {
        "id": "2hNQ1Lq6KgGZ"
      },
      "id": "2hNQ1Lq6KgGZ"
    },
    {
      "cell_type": "code",
      "source": [
        "X = df[['Hours Studied', 'Previous Scores', 'Sleep Hours', 'Sample Question Papers Practiced']].values.reshape(n,4)\n",
        "y = df['Performance Index'].values.reshape(n,1)\n",
        "\n",
        "scaler = sk.preprocessing.StandardScaler()\n",
        "X = scaler.fit_transform(X)\n",
        "\n",
        "X = np.append(np.ones((n,1)), X, axis = 1)\n",
        "\n",
        "w = np.zeros((5,1))\n",
        "\n",
        "alpha = 0.005\n",
        "iterations = 100000\n",
        "\n",
        "def cost_function(X, y , par):\n",
        "    y_pred = X@par\n",
        "    error = (y_pred - y)**2\n",
        "    cost = 1/(n)*np.sum(error)\n",
        "    return cost\n",
        "# реализуем функцию градиентного спуска\n",
        "def grad(X,y, par, alpha, iterations, eps=0.001):\n",
        "    costs = []\n",
        "    for i in range(iterations):\n",
        "        y_pred = X@par\n",
        "        der = np.dot (X.transpose(), (y_pred - y))/ n\n",
        "        par -= alpha * der\n",
        "        costs.append(cost_function(X,y, par))\n",
        "        if np.linalg.norm(der) < eps:\n",
        "            break\n",
        "    return par, costs\n",
        "# вычисляем коэффициенты регрессии\n",
        "w, costs = grad(X,y, w, alpha, iterations)\n",
        "print(w.round(3))"
      ],
      "metadata": {
        "colab": {
          "base_uri": "https://localhost:8080/"
        },
        "id": "5Tj7-20GKR8n",
        "outputId": "be86e193-070f-4788-89bd-6b4b9c513f0b"
      },
      "id": "5Tj7-20GKR8n",
      "execution_count": 56,
      "outputs": [
        {
          "output_type": "stream",
          "name": "stdout",
          "text": [
            "[[55.224]\n",
            " [ 7.388]\n",
            " [17.664]\n",
            " [ 0.808]\n",
            " [ 0.56 ]]\n"
          ]
        }
      ]
    },
    {
      "cell_type": "code",
      "source": [
        "y_pred = X@w\n",
        "\n",
        "mse = np.sum((y_pred - y)**2)/n\n",
        "print(mse)\n",
        "\n",
        "mape = np.mean(abs(y-y_pred) / y)\n",
        "print(mape)"
      ],
      "metadata": {
        "colab": {
          "base_uri": "https://localhost:8080/"
        },
        "id": "J8rKhRTSQ8JG",
        "outputId": "c66befff-fffa-4bba-d707-a8f725955492"
      },
      "id": "J8rKhRTSQ8JG",
      "execution_count": 58,
      "outputs": [
        {
          "output_type": "stream",
          "name": "stdout",
          "text": [
            "4.24517709273798\n",
            "0.03496139810880061\n"
          ]
        }
      ]
    },
    {
      "cell_type": "markdown",
      "source": [
        "Библиотечная реализация"
      ],
      "metadata": {
        "id": "giJjxKnkAZre"
      },
      "id": "giJjxKnkAZre"
    },
    {
      "cell_type": "code",
      "source": [
        "model = sk.linear_model.LinearRegression()\n",
        "model.fit(X, y)\n",
        "y_pred = model.predict(X)\n",
        "mse = np.sum((y_pred - y)**2)/n\n",
        "print(mse)\n",
        "\n",
        "mape = np.mean(abs(y-y_pred) / y)\n",
        "print(mape)"
      ],
      "metadata": {
        "colab": {
          "base_uri": "https://localhost:8080/"
        },
        "id": "KTWEeHA2Rap4",
        "outputId": "dce81eae-c0ee-42ca-e2f5-847e4a43014a"
      },
      "id": "KTWEeHA2Rap4",
      "execution_count": 59,
      "outputs": [
        {
          "output_type": "stream",
          "name": "stdout",
          "text": [
            "4.245176108662532\n",
            "0.0349619806769548\n"
          ]
        }
      ]
    }
  ],
  "metadata": {
    "kernelspec": {
      "display_name": "Python 3 (ipykernel)",
      "language": "python",
      "name": "python3"
    },
    "language_info": {
      "codemirror_mode": {
        "name": "ipython",
        "version": 3
      },
      "file_extension": ".py",
      "mimetype": "text/x-python",
      "name": "python",
      "nbconvert_exporter": "python",
      "pygments_lexer": "ipython3",
      "version": "3.11.5"
    },
    "colab": {
      "provenance": [],
      "include_colab_link": true
    }
  },
  "nbformat": 4,
  "nbformat_minor": 5
}